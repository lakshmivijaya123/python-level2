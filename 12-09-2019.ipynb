{
 "cells": [
  {
   "cell_type": "markdown",
   "metadata": {},
   "source": [
    "# Dictionaries"
   ]
  },
  {
   "cell_type": "code",
   "execution_count": 1,
   "metadata": {},
   "outputs": [
    {
     "data": {
      "text/plain": [
       "10"
      ]
     },
     "execution_count": 1,
     "metadata": {},
     "output_type": "execute_result"
    }
   ],
   "source": [
    "list1=[10,2,30]\n",
    "list1[0]"
   ]
  },
  {
   "cell_type": "code",
   "execution_count": 4,
   "metadata": {},
   "outputs": [
    {
     "data": {
      "text/plain": [
       "'value1'"
      ]
     },
     "execution_count": 4,
     "metadata": {},
     "output_type": "execute_result"
    }
   ],
   "source": [
    "dict1={}\n",
    "dict1={'key1':'value1','key2':'value2'}\n",
    "dict2={1:10,2:20,3:30}\n",
    "dict2[1]\n",
    "dict1['key1']"
   ]
  },
  {
   "cell_type": "markdown",
   "metadata": {},
   "source": [
    "## Dictionary Methods"
   ]
  },
  {
   "cell_type": "markdown",
   "metadata": {},
   "source": [
    "### get()"
   ]
  },
  {
   "cell_type": "code",
   "execution_count": 5,
   "metadata": {},
   "outputs": [],
   "source": [
    "dict1 = {'k1':100,'k2':200,'k3':300}\n",
    "dict2=dict1.get('k2')"
   ]
  },
  {
   "cell_type": "code",
   "execution_count": 6,
   "metadata": {},
   "outputs": [
    {
     "data": {
      "text/plain": [
       "200"
      ]
     },
     "execution_count": 6,
     "metadata": {},
     "output_type": "execute_result"
    }
   ],
   "source": [
    "dict2"
   ]
  },
  {
   "cell_type": "markdown",
   "metadata": {},
   "source": [
    "### keys() , values() and items()"
   ]
  },
  {
   "cell_type": "code",
   "execution_count": 10,
   "metadata": {},
   "outputs": [
    {
     "data": {
      "text/plain": [
       "dict_items([('k1', 100), ('k2', 200), ('k3', 300)])"
      ]
     },
     "execution_count": 10,
     "metadata": {},
     "output_type": "execute_result"
    }
   ],
   "source": [
    "dict1.keys()\n",
    "dict1.values()\n",
    "dict1.items()"
   ]
  },
  {
   "cell_type": "code",
   "execution_count": 9,
   "metadata": {},
   "outputs": [
    {
     "data": {
      "text/plain": [
       "dict_values([100, 200, 300])"
      ]
     },
     "execution_count": 9,
     "metadata": {},
     "output_type": "execute_result"
    }
   ],
   "source": [
    "dict1.values()"
   ]
  },
  {
   "cell_type": "markdown",
   "metadata": {},
   "source": [
    "### update()\n",
    "### setdefault()\n",
    "### copy()"
   ]
  },
  {
   "cell_type": "code",
   "execution_count": 14,
   "metadata": {},
   "outputs": [
    {
     "data": {
      "text/plain": [
       "{'name': 'Bhanu', 'pin': 123, 'branch': 'cse', 'age': 19, 'cell': 1234567891}"
      ]
     },
     "execution_count": 14,
     "metadata": {},
     "output_type": "execute_result"
    }
   ],
   "source": [
    "std={'name':'Bhanu','pin':123,'branch':'cse','age':18}\n",
    "std.update({'age':19})\n",
    "std.update({'cell':1234567891})\n",
    "std"
   ]
  },
  {
   "cell_type": "code",
   "execution_count": 15,
   "metadata": {},
   "outputs": [
    {
     "data": {
      "text/plain": [
       "19"
      ]
     },
     "execution_count": 15,
     "metadata": {},
     "output_type": "execute_result"
    }
   ],
   "source": [
    "std.setdefault('age',20)"
   ]
  },
  {
   "cell_type": "code",
   "execution_count": 16,
   "metadata": {},
   "outputs": [
    {
     "data": {
      "text/plain": [
       "{'name': 'Bhanu', 'pin': 123, 'branch': 'cse', 'age': 19, 'cell': 1234567891}"
      ]
     },
     "execution_count": 16,
     "metadata": {},
     "output_type": "execute_result"
    }
   ],
   "source": [
    "std"
   ]
  },
  {
   "cell_type": "code",
   "execution_count": 17,
   "metadata": {},
   "outputs": [
    {
     "data": {
      "text/plain": [
       "{'name': 'Bhanu', 'pin': 123, 'branch': 'cse', 'age': 19, 'cell': 1234567891}"
      ]
     },
     "execution_count": 17,
     "metadata": {},
     "output_type": "execute_result"
    }
   ],
   "source": [
    "std2=std.copy()\n",
    "std2"
   ]
  },
  {
   "cell_type": "code",
   "execution_count": null,
   "metadata": {},
   "outputs": [],
   "source": []
  },
  {
   "cell_type": "markdown",
   "metadata": {},
   "source": [
    "### popitems()\n",
    "### pop()\n",
    "### clear()"
   ]
  },
  {
   "cell_type": "code",
   "execution_count": 18,
   "metadata": {},
   "outputs": [
    {
     "data": {
      "text/plain": [
       "{1: 'a', 2: 'b'}"
      ]
     },
     "execution_count": 18,
     "metadata": {},
     "output_type": "execute_result"
    }
   ],
   "source": [
    "d={1:'a',2:'b',3:'c'}\n",
    "d.popitem()\n",
    "d"
   ]
  },
  {
   "cell_type": "code",
   "execution_count": 20,
   "metadata": {},
   "outputs": [
    {
     "data": {
      "text/plain": [
       "'a'"
      ]
     },
     "execution_count": 20,
     "metadata": {},
     "output_type": "execute_result"
    }
   ],
   "source": [
    "d.pop(1)"
   ]
  },
  {
   "cell_type": "code",
   "execution_count": 21,
   "metadata": {},
   "outputs": [
    {
     "data": {
      "text/plain": [
       "{2: 'b'}"
      ]
     },
     "execution_count": 21,
     "metadata": {},
     "output_type": "execute_result"
    }
   ],
   "source": [
    "d"
   ]
  },
  {
   "cell_type": "code",
   "execution_count": 22,
   "metadata": {},
   "outputs": [],
   "source": [
    "d.clear()"
   ]
  },
  {
   "cell_type": "code",
   "execution_count": 23,
   "metadata": {},
   "outputs": [
    {
     "data": {
      "text/plain": [
       "{}"
      ]
     },
     "execution_count": 23,
     "metadata": {},
     "output_type": "execute_result"
    }
   ],
   "source": [
    "d"
   ]
  },
  {
   "cell_type": "code",
   "execution_count": 27,
   "metadata": {},
   "outputs": [
    {
     "name": "stdout",
     "output_type": "stream",
     "text": [
      "{'name1': 'Rena', 'name2': 'Rekha', 'name3': 'Bhanu', 'pin1': 123, 'pin2': 234, 'pin3': 567, 'branch1': 'cse', 'branch2': 'ece', 'branch3': 'civil', 'e1': 2016, 'e2': 2017, 'e3': 2018}\n"
     ]
    }
   ],
   "source": [
    "d1={'name1':'Rena','name2':'Rekha','name3':'Bhanu'}\n",
    "d2={'pin1':123,'pin2':234,'pin3':567}\n",
    "d3={'branch1':'cse','branch2':'ece','branch3':'civil'}\n",
    "d4={'e1':2016,'e2':2017,'e3':2018}\n",
    "d5={}\n",
    "#d1.update(d2)\n",
    "#print(d1)\n",
    "for key in d1,d2,d3,d4:\n",
    "    d5.update(key)\n",
    "print(d5)"
   ]
  },
  {
   "cell_type": "markdown",
   "metadata": {},
   "source": [
    "### Python program to build a contacts applicatoin"
   ]
  },
  {
   "cell_type": "code",
   "execution_count": 28,
   "metadata": {},
   "outputs": [
    {
     "name": "stdout",
     "output_type": "stream",
     "text": [
      "Contact added.\n",
      "Contact added.\n",
      "Contact added.\n"
     ]
    }
   ],
   "source": [
    "contacts={}\n",
    "def addcontacts(name,phone):\n",
    "    if name not in contacts:\n",
    "        contacts[name] = phone\n",
    "        print('Contact added.')\n",
    "    else:\n",
    "        print('Contact is already existed.')\n",
    "    return\n",
    "\n",
    "addcontacts('Bhanu',9876543029)\n",
    "addcontacts('Bhuvan',9876543029)\n",
    "addcontacts('Bhanusri',9491025879)\n"
   ]
  },
  {
   "cell_type": "code",
   "execution_count": 31,
   "metadata": {},
   "outputs": [
    {
     "data": {
      "text/plain": [
       "{'Bhanu': 9876543029, 'Bhuvan': 9876543029, 'Bhanusri': 1234567890}"
      ]
     },
     "execution_count": 31,
     "metadata": {},
     "output_type": "execute_result"
    }
   ],
   "source": [
    "contacts"
   ]
  },
  {
   "cell_type": "code",
   "execution_count": 33,
   "metadata": {},
   "outputs": [
    {
     "name": "stdout",
     "output_type": "stream",
     "text": [
      "Contact is existed.\n"
     ]
    }
   ],
   "source": [
    "# program to search contact\n",
    "def contactsearch(name):\n",
    "    if name in contacts:\n",
    "        print('Contact is existed.')\n",
    "    else:\n",
    "        print('Not exist')\n",
    "    return\n",
    "contactsearch('Bhanu')"
   ]
  },
  {
   "cell_type": "code",
   "execution_count": 36,
   "metadata": {},
   "outputs": [
    {
     "name": "stdout",
     "output_type": "stream",
     "text": [
      "{1: ['Shruthi', 'cse'], 2: ['Pallavi', 'ece'], 3: ['Charan', 'mech']}\n",
      "['Pallavi', 'ece']\n"
     ]
    }
   ],
   "source": [
    "studs={1:['Shruthi','cse'],2:['Pallavi','ece'],3:['Charan','mech']}\n",
    "print(studs)\n",
    "print(studs[2])"
   ]
  },
  {
   "cell_type": "code",
   "execution_count": 41,
   "metadata": {},
   "outputs": [
    {
     "name": "stdout",
     "output_type": "stream",
     "text": [
      "1 : ['Shruthi', 'cse']\n",
      "2 : ['Pallavi', 'ece']\n",
      "3 : ['Charan', 'mech']\n"
     ]
    }
   ],
   "source": [
    "# OUTPUT\n",
    "# 1 : ['Shruthi', 'cse']\n",
    "# 2 : ['Pallavi', 'ece']\n",
    "# 3 : ['Charan', 'mech']\n",
    "for key in studs:\n",
    "    print(key ,':',studs[key])\n",
    "    # for key,value in studs.items():\n",
    "    # print(key,':',value)"
   ]
  },
  {
   "cell_type": "code",
   "execution_count": 44,
   "metadata": {},
   "outputs": [
    {
     "name": "stdout",
     "output_type": "stream",
     "text": [
      "(1, ['Shruthi', 'cse'])\n",
      "(2, ['Pallavi', 'ece'])\n",
      "(3, ['Charan', 'mech'])\n"
     ]
    }
   ],
   "source": [
    "for i in studs.items():\n",
    "    print(i)"
   ]
  },
  {
   "cell_type": "code",
   "execution_count": 48,
   "metadata": {},
   "outputs": [
    {
     "name": "stdout",
     "output_type": "stream",
     "text": [
      "0\n",
      "1\n",
      "2\n",
      "3\n",
      "------------------------\n",
      "10\n",
      "20\n",
      "30\n",
      "40\n"
     ]
    }
   ],
   "source": [
    "list1=[10,20,30,40]\n",
    "for i in range(0,4):\n",
    "    print(i)\n",
    "print('------------------------')\n",
    "for i in list1:\n",
    "    print(i)"
   ]
  },
  {
   "cell_type": "code",
   "execution_count": 49,
   "metadata": {},
   "outputs": [
    {
     "name": "stdout",
     "output_type": "stream",
     "text": [
      "{1: 2, 2: 3, 3: 4, 4: 5, 5: 6, 6: 7, 7: 8, 8: 9, 9: 10, 10: 11}\n"
     ]
    }
   ],
   "source": [
    "d={}\n",
    "for i in range(1,11):\n",
    "    d[i] = i+1\n",
    "print(d)"
   ]
  },
  {
   "cell_type": "code",
   "execution_count": 8,
   "metadata": {},
   "outputs": [
    {
     "name": "stdout",
     "output_type": "stream",
     "text": [
      "333\n"
     ]
    }
   ],
   "source": [
    "# Average\n",
    "d1={'n1':100,'n2':200,'n3':700}\n",
    "s=0\n",
    "for i in d1:\n",
    "    s=s+d1[i]\n",
    "avg=int(s/len(d1))\n",
    "print(avg)"
   ]
  },
  {
   "cell_type": "code",
   "execution_count": 2,
   "metadata": {},
   "outputs": [
    {
     "name": "stdout",
     "output_type": "stream",
     "text": [
      "333.3333333333333\n"
     ]
    }
   ],
   "source": [
    "d={'n1':100,'n2':200,'n3':700}\n",
    "r=sum(d.values())\n",
    "r=r/len(d)\n",
    "print(r)"
   ]
  },
  {
   "cell_type": "code",
   "execution_count": 5,
   "metadata": {},
   "outputs": [
    {
     "name": "stdout",
     "output_type": "stream",
     "text": [
      "-14000000\n"
     ]
    }
   ],
   "source": [
    "#multiplication with negative\n",
    "d1={'n1':100,'n2':200,'n3':-700}\n",
    "s=1\n",
    "for i in d1:\n",
    "    s=s*d1[i]\n",
    "print(s)"
   ]
  },
  {
   "cell_type": "code",
   "execution_count": 1,
   "metadata": {},
   "outputs": [
    {
     "name": "stdout",
     "output_type": "stream",
     "text": [
      "14000000\n"
     ]
    }
   ],
   "source": [
    "#multiplication\n",
    "d1={'n1':100,'n2':200,'n3':700}\n",
    "s=1\n",
    "for i in d1:\n",
    "    s=s*d1[i]\n",
    "print(s)"
   ]
  },
  {
   "cell_type": "code",
   "execution_count": 17,
   "metadata": {},
   "outputs": [
    {
     "name": "stdout",
     "output_type": "stream",
     "text": [
      "{10: 100, 20: 200, 30: 300}\n"
     ]
    }
   ],
   "source": [
    "list1=[10,20,30]\n",
    "list2=[100,200,300]\n",
    "a={}\n",
    "for i in range(len(list1)):\n",
    "    a[list1[i]]=list2[i]\n",
    "print(a)"
   ]
  },
  {
   "cell_type": "code",
   "execution_count": null,
   "metadata": {},
   "outputs": [],
   "source": []
  }
 ],
 "metadata": {
  "kernelspec": {
   "display_name": "Python 3",
   "language": "python",
   "name": "python3"
  },
  "language_info": {
   "codemirror_mode": {
    "name": "ipython",
    "version": 3
   },
   "file_extension": ".py",
   "mimetype": "text/x-python",
   "name": "python",
   "nbconvert_exporter": "python",
   "pygments_lexer": "ipython3",
   "version": "3.7.3"
  }
 },
 "nbformat": 4,
 "nbformat_minor": 2
}
