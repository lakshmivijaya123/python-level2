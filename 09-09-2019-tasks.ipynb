{
 "cells": [
  {
   "cell_type": "code",
   "execution_count": 1,
   "metadata": {},
   "outputs": [
    {
     "name": "stdout",
     "output_type": "stream",
     "text": [
      "Enter any value:11\n",
      "Prime\n"
     ]
    }
   ],
   "source": [
    "def prime(num):\n",
    "    i=2\n",
    "    c=0\n",
    "    while i<=num:\n",
    "        if num%i==0:\n",
    "            c+=1\n",
    "        i+=1\n",
    "    return c\n",
    "num=int(input(\"Enter any value:\"))\n",
    "res=prime(num)\n",
    "if res==1:\n",
    "    print(\"Prime\")\n",
    "else:\n",
    "    print(\"Non prime\")"
   ]
  },
  {
   "cell_type": "code",
   "execution_count": 2,
   "metadata": {},
   "outputs": [
    {
     "name": "stdout",
     "output_type": "stream",
     "text": [
      "Enter any value:20\n",
      "2 Prime\n",
      "3 Prime\n",
      "5 Prime\n",
      "7 Prime\n",
      "11 Prime\n",
      "13 Prime\n",
      "17 Prime\n",
      "19 Prime\n"
     ]
    }
   ],
   "source": [
    "#  7.Function to calculate the average of first N Prime numbers\n",
    "def prime(num):\n",
    "    i=2\n",
    "    c=0\n",
    "    while i<=num:\n",
    "        if num%i==0:\n",
    "            c+=1\n",
    "        i+=1\n",
    "    return c\n",
    "num=int(input(\"Enter any value:\"))\n",
    "i=2\n",
    "while(i<=num):\n",
    "    res=prime(i)\n",
    "    if res==1:\n",
    "        print(i,\"Prime\")\n",
    "    i+=1"
   ]
  },
  {
   "cell_type": "code",
   "execution_count": 3,
   "metadata": {},
   "outputs": [
    {
     "name": "stdout",
     "output_type": "stream",
     "text": [
      "Enter any number:50\n",
      "6 perfect number\n",
      "28 perfect number\n"
     ]
    }
   ],
   "source": [
    "# 8.Function to generate all Perfect numbers in a given range\n",
    "def isperfect(num):\n",
    "    s=0\n",
    "    for i in range(1,num):\n",
    "        if num%i==0:\n",
    "            s+=i\n",
    "    return s\n",
    "number=int(input(\"Enter any number:\"))\n",
    "for i in range(1,number):\n",
    "    res=isperfect(i)\n",
    "    if res==i:\n",
    "        print(i,\"perfect number\")"
   ]
  },
  {
   "cell_type": "code",
   "execution_count": 4,
   "metadata": {},
   "outputs": [
    {
     "name": "stdout",
     "output_type": "stream",
     "text": [
      "1 1\n",
      "2 2\n",
      "3 3\n"
     ]
    }
   ],
   "source": [
    "#program print number of iterations using while loop with statement\n",
    "a=1\n",
    "b=1\n",
    "while(a<=4 and b<=4):\n",
    "    if(a==4 and b==4):\n",
    "        break\n",
    "    else:\n",
    "        print(a,b)\n",
    "    a+=1\n",
    "    b+=1"
   ]
  },
  {
   "cell_type": "code",
   "execution_count": null,
   "metadata": {},
   "outputs": [],
   "source": []
  }
 ],
 "metadata": {
  "kernelspec": {
   "display_name": "Python 3",
   "language": "python",
   "name": "python3"
  },
  "language_info": {
   "codemirror_mode": {
    "name": "ipython",
    "version": 3
   },
   "file_extension": ".py",
   "mimetype": "text/x-python",
   "name": "python",
   "nbconvert_exporter": "python",
   "pygments_lexer": "ipython3",
   "version": "3.7.3"
  }
 },
 "nbformat": 4,
 "nbformat_minor": 2
}
