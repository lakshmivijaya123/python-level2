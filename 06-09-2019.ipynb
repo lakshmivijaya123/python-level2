{
 "cells": [
  {
   "cell_type": "markdown",
   "metadata": {},
   "source": [
    "# Functions"
   ]
  },
  {
   "cell_type": "code",
   "execution_count": 2,
   "metadata": {},
   "outputs": [
    {
     "name": "stdout",
     "output_type": "stream",
     "text": [
      "hello vijaya\n"
     ]
    }
   ],
   "source": [
    "def vijju():\n",
    "    print('hello vijaya')\n",
    "vijju()"
   ]
  },
  {
   "cell_type": "code",
   "execution_count": 5,
   "metadata": {},
   "outputs": [
    {
     "name": "stdout",
     "output_type": "stream",
     "text": [
      "nohtyp\n"
     ]
    }
   ],
   "source": [
    "#function to reverse a string python\n",
    "def s():\n",
    "    a='python'\n",
    "    print(a[::-1])\n",
    "s()"
   ]
  },
  {
   "cell_type": "code",
   "execution_count": 19,
   "metadata": {},
   "outputs": [
    {
     "name": "stdout",
     "output_type": "stream",
     "text": [
      "enter a number4\n"
     ]
    },
    {
     "data": {
      "text/plain": [
       "16"
      ]
     },
     "execution_count": 19,
     "metadata": {},
     "output_type": "execute_result"
    }
   ],
   "source": [
    "#function square of a number\n",
    "def square():\n",
    "    a=int(input('enter a number'))\n",
    "    return(a**2)\n",
    "square()"
   ]
  },
  {
   "cell_type": "code",
   "execution_count": 6,
   "metadata": {},
   "outputs": [
    {
     "name": "stdout",
     "output_type": "stream",
     "text": [
      "enter a number1\n",
      "enter a number2\n",
      "3\n"
     ]
    }
   ],
   "source": [
    "#function sum of numbers\n",
    "def sum():\n",
    "    a=int(input('enter a number'))\n",
    "    b=int(input('enter a number'))\n",
    "    print(a+b)\n",
    "sum()"
   ]
  },
  {
   "cell_type": "code",
   "execution_count": 1,
   "metadata": {},
   "outputs": [
    {
     "name": "stdout",
     "output_type": "stream",
     "text": [
      "enter a number5\n",
      "The factorial of 5 is 120\n"
     ]
    }
   ],
   "source": [
    "#fumction calculate the factorial of number\n",
    "def fact():\n",
    "    factorial=1\n",
    "    p=int(input('enter a number'))\n",
    "    if(p<=1):\n",
    "        return 1\n",
    "    else:\n",
    "         for i in range(1,p+1):\n",
    "            factorial = factorial*i\n",
    "    print(\"The factorial of\",p,\"is\",factorial)\n",
    "fact()"
   ]
  },
  {
   "cell_type": "code",
   "execution_count": 10,
   "metadata": {},
   "outputs": [
    {
     "name": "stdout",
     "output_type": "stream",
     "text": [
      "enter a number12345\n",
      "5\n"
     ]
    }
   ],
   "source": [
    "#function to count the number of digits in given number\n",
    "def count():\n",
    "    f=input('enter a number')\n",
    "    print(len(f))\n",
    "count()\n",
    "    \n",
    "    "
   ]
  },
  {
   "cell_type": "code",
   "execution_count": 7,
   "metadata": {},
   "outputs": [
    {
     "name": "stdout",
     "output_type": "stream",
     "text": [
      "not leap\n",
      "5\n",
      "d is greatest\n"
     ]
    }
   ],
   "source": [
    "# check leap year using function\n",
    "def leap(y):\n",
    "    if y%400==0 or (y%4==0 and y%100!=0):\n",
    "        print('year leap')\n",
    "    else:\n",
    "        print('not leap')\n",
    "leap(2013)\n",
    "#count no.of digits using function\n",
    "def count(n):\n",
    "    print(len(str(n)))\n",
    "count(12234)\n",
    "#function to identify the greates of 4 numbers\n",
    "def greatest(a,b,c,d):\n",
    "    if (a>b>c>d):\n",
    "        print('a is greatest')\n",
    "    elif(b>a>c>d):\n",
    "        print('b is greatest')\n",
    "    elif(c>a>b>d):\n",
    "        print('c is greatest')\n",
    "    else:\n",
    "        print('d is greatest')\n",
    "greatest(1,2,3,4)"
   ]
  },
  {
   "cell_type": "code",
   "execution_count": 16,
   "metadata": {},
   "outputs": [
    {
     "name": "stdout",
     "output_type": "stream",
     "text": [
      "enter a numberwow\n",
      "yes\n"
     ]
    }
   ],
   "source": [
    "#Function to check if a string is a palindrome\n",
    "def palindrome():\n",
    "    k=input('enter a number')\n",
    "    p=k[::-1]\n",
    "    if(k==p):\n",
    "        print('yes')\n",
    "    else:\n",
    "        print('no')\n",
    "palindrome()"
   ]
  },
  {
   "cell_type": "markdown",
   "metadata": {},
   "source": [
    "# Types of Functions\n",
    "\n",
    "###  1.without Arguments and without return values"
   ]
  },
  {
   "cell_type": "code",
   "execution_count": 24,
   "metadata": {},
   "outputs": [
    {
     "name": "stdout",
     "output_type": "stream",
     "text": [
      "w/o arguments and w/o return values 30\n"
     ]
    }
   ],
   "source": [
    "def adding():\n",
    "    n1=10\n",
    "    n2=20\n",
    "    add=n1+n2\n",
    "    print('w/o arguments and w/o return values',add)\n",
    "adding()"
   ]
  },
  {
   "cell_type": "markdown",
   "metadata": {},
   "source": [
    "### 2.without arguments and with return value"
   ]
  },
  {
   "cell_type": "code",
   "execution_count": 28,
   "metadata": {},
   "outputs": [
    {
     "data": {
      "text/plain": [
       "200"
      ]
     },
     "execution_count": 28,
     "metadata": {},
     "output_type": "execute_result"
    }
   ],
   "source": [
    "def mul():\n",
    "    n1=10\n",
    "    n2=20\n",
    "    mult=n1*n2\n",
    "    return mult    \n",
    "mul()"
   ]
  },
  {
   "cell_type": "markdown",
   "metadata": {},
   "source": [
    "### 3.with arguments without return value"
   ]
  },
  {
   "cell_type": "code",
   "execution_count": 34,
   "metadata": {},
   "outputs": [
    {
     "name": "stdout",
     "output_type": "stream",
     "text": [
      "8\n"
     ]
    }
   ],
   "source": [
    "def mul(n1,n2):\n",
    "    mult=n1*n2\n",
    "    print(mult)    \n",
    "mul(2,4)"
   ]
  },
  {
   "cell_type": "markdown",
   "metadata": {},
   "source": [
    "### 4.with arguments and with return value"
   ]
  },
  {
   "cell_type": "code",
   "execution_count": 35,
   "metadata": {},
   "outputs": [
    {
     "data": {
      "text/plain": [
       "3"
      ]
     },
     "execution_count": 35,
     "metadata": {},
     "output_type": "execute_result"
    }
   ],
   "source": [
    "def mul(n1,n2):\n",
    "    mult=n1+n2\n",
    "    return mult    \n",
    "mul(1,2)"
   ]
  },
  {
   "cell_type": "markdown",
   "metadata": {},
   "source": [
    "## Recursive Function\n",
    "\n",
    "####  A Function call itself"
   ]
  },
  {
   "cell_type": "code",
   "execution_count": 11,
   "metadata": {},
   "outputs": [
    {
     "data": {
      "text/plain": [
       "120"
      ]
     },
     "execution_count": 11,
     "metadata": {},
     "output_type": "execute_result"
    }
   ],
   "source": [
    "#factorial\n",
    "def factorial(n):\n",
    "    if n==1:\n",
    "        return 1\n",
    "    else:\n",
    "        return(n*factorial(n-1))\n",
    "factorial(5)"
   ]
  },
  {
   "cell_type": "code",
   "execution_count": 54,
   "metadata": {},
   "outputs": [
    {
     "name": "stdout",
     "output_type": "stream",
     "text": [
      "102 108 114 120 126 132 138 144 150 156 162 168 174 180 186 192 198 "
     ]
    }
   ],
   "source": [
    "### Tasks:\n",
    "### 1.Function to print all numbers divisible by 6 and not a factor of 100 in a given range(lb, ub) inclusive\n",
    "def divisible():\n",
    "    for i in range(100,201,1):\n",
    "        if(i%6==0):\n",
    "             if(i%100!=0):\n",
    "                    print(i,end= ' ')\n",
    "divisible()"
   ]
  },
  {
   "cell_type": "code",
   "execution_count": 53,
   "metadata": {},
   "outputs": [
    {
     "name": "stdout",
     "output_type": "stream",
     "text": [
      "36\n"
     ]
    }
   ],
   "source": [
    "### 2.Function to find the average of cubes of all the even numbers in a given range(lb, ub) inclusive\n",
    "def average():\n",
    "    sum=0\n",
    "    count=0\n",
    "    for i in range(1,5):\n",
    "        if(i%2==0):\n",
    "            count+=1\n",
    "            sum +=i**3   \n",
    "    print(sum//count)\n",
    "average()"
   ]
  },
  {
   "cell_type": "code",
   "execution_count": 2,
   "metadata": {},
   "outputs": [
    {
     "name": "stdout",
     "output_type": "stream",
     "text": [
      "24\n"
     ]
    }
   ],
   "source": [
    "#Function to calculate the factorial of a given number\n",
    "def fact(n):\n",
    "    fact=1\n",
    "    for i in range(1,n+1):\n",
    "        fact=fact*i\n",
    "    print(fact)\n",
    "fact(4)"
   ]
  },
  {
   "cell_type": "code",
   "execution_count": 2,
   "metadata": {},
   "outputs": [
    {
     "name": "stdout",
     "output_type": "stream",
     "text": [
      "2 3 5 7 "
     ]
    }
   ],
   "source": [
    "#Function to check if a given number is Prime for given range by using recursive function\n",
    "def prime(n):\n",
    "    for i in range(1,n+1):\n",
    "        count=0\n",
    "        for j in range(1,i+1):\n",
    "            if(i%j==0):\n",
    "                count+=1\n",
    "        if(count==2):\n",
    "            print(j,end=' ')\n",
    "prime(9)\n"
   ]
  },
  {
   "cell_type": "code",
   "execution_count": 10,
   "metadata": {},
   "outputs": [
    {
     "name": "stdout",
     "output_type": "stream",
     "text": [
      "1.5\n"
     ]
    }
   ],
   "source": [
    "#Function to calculate the average first N Prime numbers by using recursive function\n",
    "def prime(n):\n",
    "    sum=0\n",
    "    for i in range(1,n+1):\n",
    "        count=0\n",
    "        for j in range(1,i+1):\n",
    "            if(i%j==0):\n",
    "                count+=1\n",
    "    sum=sum+i\n",
    "    avg=sum/count\n",
    "    print(avg)\n",
    "    \n",
    "prime(3)"
   ]
  },
  {
   "cell_type": "code",
   "execution_count": null,
   "metadata": {},
   "outputs": [
    {
     "name": "stdout",
     "output_type": "stream",
     "text": [
      "prime\n"
     ]
    }
   ],
   "source": [
    "#Function to check if a given number is Prime by using recursive function\n",
    "def prime(n):\n",
    "    i=1\n",
    "    count=0\n",
    "    while i<=1:\n",
    "        if(n%i==0):\n",
    "                count+=1\n",
    "        if(count==2):\n",
    "            print('prime')\n",
    "prime(9)"
   ]
  },
  {
   "cell_type": "code",
   "execution_count": 15,
   "metadata": {},
   "outputs": [
    {
     "name": "stdout",
     "output_type": "stream",
     "text": [
      "enter number1000\n",
      "6 perfectnumber\n",
      "28 perfectnumber\n",
      "496 perfectnumber\n"
     ]
    }
   ],
   "source": [
    "#Function to generate all Perfect numbers in a given range by using recursive function\n",
    "def perfect(n,i):\n",
    "    if i==1:\n",
    "        return 1\n",
    "    else:\n",
    "        if n%i==0:\n",
    "            return i+perfect(n,i-1)\n",
    "        else:\n",
    "            return 0+perfect(n,i-1)\n",
    "n=int(input('enter number'))\n",
    "for i in range(2,n):\n",
    "    r=0\n",
    "    r=r+perfect(i,i-1)\n",
    "    if r==i:\n",
    "        print(i,'perfectnumber')"
   ]
  },
  {
   "cell_type": "code",
   "execution_count": 1,
   "metadata": {},
   "outputs": [
    {
     "name": "stdout",
     "output_type": "stream",
     "text": [
      "Enter any number:11\n",
      "Prime\n"
     ]
    }
   ],
   "source": [
    "#Function to check if a given number is Prime by using recursive function\n",
    "def prime(num,i):\n",
    "    if(i==num):\n",
    "        return 1\n",
    "    else:\n",
    "        if num%i==0:\n",
    "            return False\n",
    "        else:\n",
    "            return 0+prime(num,i+1)\n",
    "        \n",
    "        \n",
    "number=int(input(\"Enter any number:\"))\n",
    "res=prime(number,2)\n",
    "if res==1:\n",
    "    print(\"Prime\")\n",
    "else:\n",
    "    print(\"NOt prime\")"
   ]
  },
  {
   "cell_type": "code",
   "execution_count": null,
   "metadata": {},
   "outputs": [],
   "source": []
  }
 ],
 "metadata": {
  "kernelspec": {
   "display_name": "Python 3",
   "language": "python",
   "name": "python3"
  },
  "language_info": {
   "codemirror_mode": {
    "name": "ipython",
    "version": 3
   },
   "file_extension": ".py",
   "mimetype": "text/x-python",
   "name": "python",
   "nbconvert_exporter": "python",
   "pygments_lexer": "ipython3",
   "version": "3.7.3"
  }
 },
 "nbformat": 4,
 "nbformat_minor": 2
}
