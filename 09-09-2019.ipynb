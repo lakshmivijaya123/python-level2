{
 "cells": [
  {
   "cell_type": "markdown",
   "metadata": {},
   "source": [
    "## Conditional statements\n",
    "\n",
    "#### 1.If statement"
   ]
  },
  {
   "cell_type": "code",
   "execution_count": 2,
   "metadata": {},
   "outputs": [
    {
     "name": "stdout",
     "output_type": "stream",
     "text": [
      "enter marks:25\n"
     ]
    }
   ],
   "source": [
    "marks = int(input('enter marks:'))\n",
    "passing=50\n",
    "distinction=90"
   ]
  },
  {
   "cell_type": "code",
   "execution_count": 6,
   "metadata": {},
   "outputs": [
    {
     "name": "stdout",
     "output_type": "stream",
     "text": [
      "not good\n"
     ]
    }
   ],
   "source": [
    "if marks >= distinction:\n",
    "    print('excellent')\n",
    "if marks >= passing and marks< distinction:\n",
    "    print('your pass')\n",
    "if marks < passing:\n",
    "    print('not good')"
   ]
  },
  {
   "cell_type": "code",
   "execution_count": 7,
   "metadata": {},
   "outputs": [
    {
     "name": "stdout",
     "output_type": "stream",
     "text": [
      "bad review\n"
     ]
    }
   ],
   "source": [
    "statement='the coffe is bad'\n",
    "if 'bad' in statement:\n",
    "    print('bad review')\n"
   ]
  },
  {
   "cell_type": "code",
   "execution_count": 8,
   "metadata": {},
   "outputs": [],
   "source": [
    "statement='the coffe is good'\n",
    "if 'bad' in statement:\n",
    "    print('good review')\n"
   ]
  },
  {
   "cell_type": "code",
   "execution_count": 9,
   "metadata": {},
   "outputs": [
    {
     "data": {
      "text/plain": [
       "False"
      ]
     },
     "execution_count": 9,
     "metadata": {},
     "output_type": "execute_result"
    }
   ],
   "source": [
    "'z' in 'hello'"
   ]
  },
  {
   "cell_type": "markdown",
   "metadata": {},
   "source": [
    "#### 2.If elsse statement"
   ]
  },
  {
   "cell_type": "code",
   "execution_count": 12,
   "metadata": {},
   "outputs": [
    {
     "name": "stdout",
     "output_type": "stream",
     "text": [
      "False\n"
     ]
    }
   ],
   "source": [
    "if None:\n",
    "    print('True')\n",
    "else:\n",
    "    print('False')"
   ]
  },
  {
   "cell_type": "code",
   "execution_count": 13,
   "metadata": {},
   "outputs": [
    {
     "name": "stdout",
     "output_type": "stream",
     "text": [
      "enter a number4\n",
      "even\n"
     ]
    }
   ],
   "source": [
    "n=int(input('enter a number'))\n",
    "if n%2 == 0:\n",
    "    print('even')\n",
    "else:\n",
    "    print('odd')"
   ]
  },
  {
   "cell_type": "code",
   "execution_count": 14,
   "metadata": {},
   "outputs": [],
   "source": [
    "### task\n",
    "#### a number is even find it should be chek divisible 4  or not else it is odd find it should be check divisible by 3 or not"
   ]
  },
  {
   "cell_type": "code",
   "execution_count": 21,
   "metadata": {},
   "outputs": [
    {
     "name": "stdout",
     "output_type": "stream",
     "text": [
      "enter a number45\n",
      "odd\n",
      "number is divisible by 3\n"
     ]
    }
   ],
   "source": [
    "n=int(input('enter a number'))\n",
    "if n%2 == 0:\n",
    "    print('even')\n",
    "    if n%4==0:\n",
    "        print('number is divisible by 4')\n",
    "    else:\n",
    "        print('not divisible by 4')\n",
    "    \n",
    "else:\n",
    "    print('odd')\n",
    "    if (n%3==0):\n",
    "        print('number is divisible by 3')\n",
    "    else:\n",
    "        print('not divisible by 3')\n",
    "    "
   ]
  },
  {
   "cell_type": "code",
   "execution_count": 25,
   "metadata": {},
   "outputs": [
    {
     "name": "stdout",
     "output_type": "stream",
     "text": [
      "enter a number2012\n",
      "year leap\n"
     ]
    }
   ],
   "source": [
    "### check if a year is leap\n",
    "y=int(input('enter a number'))\n",
    "if y%400==0 or (y%4==0 and y%100!=0):\n",
    "    print('year leap')\n",
    "else:\n",
    "    print('not leap')\n"
   ]
  },
  {
   "cell_type": "code",
   "execution_count": 44,
   "metadata": {},
   "outputs": [
    {
     "name": "stdout",
     "output_type": "stream",
     "text": [
      "enter a number91\n",
      "enter a number35\n",
      "enter a number100\n",
      "yes\n"
     ]
    }
   ],
   "source": [
    "### check if a number exists in given range(inclusive)\n",
    "n1=int(input('enter a number'))\n",
    "lb=int(input('enter a number'))\n",
    "ub=int(input('enter a number'))\n",
    "if(n1>=lb and n1<=ub):\n",
    "    print('yes')\n",
    "else:\n",
    "    print('no')"
   ]
  },
  {
   "cell_type": "code",
   "execution_count": 36,
   "metadata": {},
   "outputs": [
    {
     "name": "stdout",
     "output_type": "stream",
     "text": [
      "enter a number123\n",
      "no\n"
     ]
    }
   ],
   "source": [
    "### check if a number is multiple of 10\n",
    "s=int(input('enter a number'))\n",
    "if s%10==0:\n",
    "    print('yes')\n",
    "else:\n",
    "    print('no')"
   ]
  },
  {
   "cell_type": "code",
   "execution_count": 47,
   "metadata": {},
   "outputs": [
    {
     "name": "stdout",
     "output_type": "stream",
     "text": [
      "enter a number4\n",
      "factor\n"
     ]
    }
   ],
   "source": [
    "### check if a nuber is factor of 100\n",
    "k=int(input('enter a number'))\n",
    "if 100%k==0:\n",
    "    print('factor')\n",
    "else:\n",
    "    print('no')\n"
   ]
  },
  {
   "cell_type": "code",
   "execution_count": 46,
   "metadata": {},
   "outputs": [
    {
     "name": "stdout",
     "output_type": "stream",
     "text": [
      "enter a number12345\n",
      "enter a numberhello\n",
      "no\n"
     ]
    }
   ],
   "source": [
    "### check if a string is equal to a number\n",
    "n=int(input('enter a number'))\n",
    "s=input('enter a number')\n",
    "if s==str(n):\n",
    "    print('yes')\n",
    "else:\n",
    "    print('no')"
   ]
  },
  {
   "cell_type": "code",
   "execution_count": 51,
   "metadata": {},
   "outputs": [
    {
     "name": "stdout",
     "output_type": "stream",
     "text": [
      "enter a number2345\n",
      "31536000000000000\n"
     ]
    }
   ],
   "source": [
    "### calculate the number of nano seconds in a year(leap year logic)\n",
    "y1=int(input('enter a number'))\n",
    "if y1%400==0 or (y1%4==0 and y1%100!=0):\n",
    "    print(366 * 24 * 60 * 60 * (10**9))\n",
    "else:\n",
    "    print(365 * 24 * 60 * 60 *(10**9))\n",
    "\n"
   ]
  },
  {
   "cell_type": "code",
   "execution_count": 53,
   "metadata": {},
   "outputs": [
    {
     "name": "stdout",
     "output_type": "stream",
     "text": [
      "enter a number3\n",
      "enter a number4\n",
      "enter a number1\n",
      "b is greatest\n"
     ]
    }
   ],
   "source": [
    "### find the greatest of 3 numbers\n",
    "a=int(input('enter a number'))\n",
    "b=int(input('enter a number'))\n",
    "c=int(input('enter a number'))\n",
    "if (a>b>c):\n",
    "    print('a is greatest')\n",
    "elif(b>a>c):\n",
    "    print('b is greatest')\n",
    "else:\n",
    "    print('c is greatest')"
   ]
  },
  {
   "cell_type": "code",
   "execution_count": 56,
   "metadata": {},
   "outputs": [
    {
     "name": "stdout",
     "output_type": "stream",
     "text": [
      "enter marks:100\n",
      "distinction\n"
     ]
    }
   ],
   "source": [
    "marks = int(input('enter marks:'))\n",
    "if marks< 50:\n",
    "    print('fail')\n",
    "elif marks>60 and marks<70:\n",
    "    print('d grade')\n",
    "elif marks>70 and marks<80:\n",
    "    print('c grade')\n",
    "elif marks>80 and marks<90:\n",
    "    print('b grade')\n",
    "elif marks>90 and marks<100:\n",
    "    print('a grade')\n",
    "else:\n",
    "    print('distinction')\n"
   ]
  },
  {
   "cell_type": "markdown",
   "metadata": {},
   "source": [
    "### 4.Nested If"
   ]
  },
  {
   "cell_type": "code",
   "execution_count": 62,
   "metadata": {},
   "outputs": [
    {
     "name": "stdout",
     "output_type": "stream",
     "text": [
      "enter number:-3\n",
      "negative number\n"
     ]
    }
   ],
   "source": [
    "#take an input from keyboard\n",
    "#check the number is positive or negative or zero display\n",
    "s = int(input('enter number:'))\n",
    "if s>=0:\n",
    "    if(s==0):\n",
    "        print('number is zer0')\n",
    "    else:\n",
    "        print('number is positive')\n",
    "else:\n",
    "    print('negative number')\n"
   ]
  },
  {
   "cell_type": "code",
   "execution_count": 4,
   "metadata": {},
   "outputs": [
    {
     "name": "stdout",
     "output_type": "stream",
     "text": [
      "enter number4\n",
      "2.0\n",
      "enter number12345\n",
      "5\n",
      "enter a number2020\n",
      "year leap\n",
      "enter a number24\n",
      "no\n",
      "enter a number23\n",
      "enter a number1\n",
      "enter a number89\n",
      "yes\n"
     ]
    }
   ],
   "source": [
    "### tasks:\n",
    "# 1.Calculate the square root of a given number \n",
    "a=int(input('enter number'))\n",
    "print(a**0.5)\n",
    "#2.Check the number of digits in a given number\n",
    "p=int(input('enter number'))\n",
    "if p>0:\n",
    "    print(len(str(p)))\n",
    "#3.Check the given year is a Leap year or not \n",
    "y=int(input('enter a number'))\n",
    "if y%400==0 or (y%4==0 and y%100!=0):\n",
    "    print('year leap')\n",
    "else:\n",
    "    print('not leap')\n",
    "#4.check if a nuber is factor of 1000\n",
    "k=int(input('enter a number'))\n",
    "if 1000%k==0:\n",
    "    print('factor')\n",
    "else:\n",
    "    print('no')\n",
    "#5.Check if the number exist in a given range (inputs: number(n), range(lower number and upper number) \n",
    "n1=int(input('enter a number'))\n",
    "lb=int(input('enter a number'))\n",
    "ub=int(input('enter a number'))\n",
    "if(n1>=lb and n1<=ub):\n",
    "    print('yes')\n",
    "else:\n",
    "    print('no')"
   ]
  },
  {
   "cell_type": "markdown",
   "metadata": {},
   "source": [
    "### Iterations/loop"
   ]
  },
  {
   "cell_type": "code",
   "execution_count": 2,
   "metadata": {},
   "outputs": [
    {
     "data": {
      "text/plain": [
       "range(1, 5)"
      ]
     },
     "execution_count": 2,
     "metadata": {},
     "output_type": "execute_result"
    }
   ],
   "source": [
    "range(5) # 0,1,2,3,4,5\n",
    "range(1,5)#1,2,3,4"
   ]
  },
  {
   "cell_type": "markdown",
   "metadata": {},
   "source": [
    "### 1.for loop"
   ]
  },
  {
   "cell_type": "code",
   "execution_count": 3,
   "metadata": {},
   "outputs": [
    {
     "name": "stdout",
     "output_type": "stream",
     "text": [
      "0\n",
      "1\n",
      "2\n",
      "3\n",
      "4\n"
     ]
    }
   ],
   "source": [
    "for i in range(5):\n",
    "    print(i)"
   ]
  },
  {
   "cell_type": "code",
   "execution_count": 5,
   "metadata": {},
   "outputs": [
    {
     "name": "stdout",
     "output_type": "stream",
     "text": [
      "h\n",
      "e\n",
      "l\n",
      "l\n",
      "o\n"
     ]
    }
   ],
   "source": [
    "s1='hello'\n",
    "for i in s1:\n",
    "    print(i)"
   ]
  },
  {
   "cell_type": "code",
   "execution_count": 6,
   "metadata": {},
   "outputs": [
    {
     "name": "stdout",
     "output_type": "stream",
     "text": [
      "h,e,l,l,o,"
     ]
    }
   ],
   "source": [
    "#print hello in single line separate by ,\n",
    "for i in s1:\n",
    "    print(i,end=',')"
   ]
  },
  {
   "cell_type": "code",
   "execution_count": 7,
   "metadata": {},
   "outputs": [
    {
     "name": "stdout",
     "output_type": "stream",
     "text": [
      "h\n",
      "e\n",
      "l\n",
      "l\n",
      "o\n"
     ]
    }
   ],
   "source": [
    "for i in s1:\n",
    "    print(i,sep=',')"
   ]
  },
  {
   "cell_type": "code",
   "execution_count": 8,
   "metadata": {},
   "outputs": [
    {
     "name": "stdout",
     "output_type": "stream",
     "text": [
      "v,,,i,,,j,,,a,,,y,,,a,"
     ]
    }
   ],
   "source": [
    "s2='v,i,j,a,y,a'\n",
    "for i in s2:\n",
    "    print(i,end=',')"
   ]
  },
  {
   "cell_type": "code",
   "execution_count": 9,
   "metadata": {},
   "outputs": [
    {
     "name": "stdout",
     "output_type": "stream",
     "text": [
      "1,2\n",
      "1 2\n"
     ]
    }
   ],
   "source": [
    "print(1,2,sep=',')\n",
    "print(1,2)"
   ]
  },
  {
   "cell_type": "code",
   "execution_count": 11,
   "metadata": {},
   "outputs": [
    {
     "name": "stdout",
     "output_type": "stream",
     "text": [
      "2 4 6 8 10 "
     ]
    }
   ],
   "source": [
    "for i in  range(1,11):\n",
    "    if i%2==0:\n",
    "        print(i,end=' ')"
   ]
  },
  {
   "cell_type": "code",
   "execution_count": 12,
   "metadata": {},
   "outputs": [
    {
     "name": "stdout",
     "output_type": "stream",
     "text": [
      "1 3 5 7 9 "
     ]
    }
   ],
   "source": [
    "for i in range(1,11,2):\n",
    "    print(i,end=' ')\n"
   ]
  },
  {
   "cell_type": "code",
   "execution_count": 13,
   "metadata": {},
   "outputs": [
    {
     "name": "stdout",
     "output_type": "stream",
     "text": [
      "7 14 21 28 35 42 49 56 63 70 77 84 91 98 105 112 119 126 133 140 147 154 161 168 175 182 189 196 203 210 217 224 231 238 245 252 259 266 273 280 287 294 301 308 315 322 329 336 343 350 357 364 371 378 385 392 399 406 413 420 427 434 441 448 455 462 469 476 483 490 497 504 511 518 525 532 539 546 553 560 567 574 581 588 595 602 609 616 623 630 637 644 651 658 665 672 679 686 693 700 707 714 721 728 735 742 749 756 763 770 777 784 791 798 805 812 819 826 833 840 847 854 861 868 875 882 889 896 903 910 917 924 931 938 945 952 959 966 973 980 987 994 "
     ]
    }
   ],
   "source": [
    "for i in range(7,1000,7):\n",
    "    print(i,end=' ')"
   ]
  },
  {
   "cell_type": "code",
   "execution_count": 14,
   "metadata": {},
   "outputs": [
    {
     "name": "stdout",
     "output_type": "stream",
     "text": [
      "14 28 42 56 70 84 98 112 126 140 154 168 182 196 210 224 238 252 266 280 294 308 322 336 350 364 378 392 406 420 434 448 462 476 490 504 518 532 546 560 574 588 602 616 630 644 658 672 686 700 714 728 742 756 770 784 798 812 826 840 854 868 882 896 910 924 938 952 966 980 994 "
     ]
    }
   ],
   "source": [
    "for i in range(7,1000,7):\n",
    "    if(i%2==0):\n",
    "        print(i,end=' ')"
   ]
  },
  {
   "cell_type": "code",
   "execution_count": 15,
   "metadata": {},
   "outputs": [
    {
     "name": "stdout",
     "output_type": "stream",
     "text": [
      "994 980 966 952 938 924 910 896 882 868 854 840 826 812 798 784 770 756 742 728 714 700 686 672 658 644 630 616 602 588 574 560 546 532 518 504 490 476 462 448 434 420 406 392 378 364 350 336 322 308 294 280 266 252 238 224 210 196 182 168 154 140 126 112 98 84 70 56 42 28 14 "
     ]
    }
   ],
   "source": [
    "for i in range(994,6,-7):\n",
    "    if(i%2==0):\n",
    "        print(i,end=' ')\n",
    "        "
   ]
  },
  {
   "cell_type": "code",
   "execution_count": 16,
   "metadata": {},
   "outputs": [
    {
     "name": "stdout",
     "output_type": "stream",
     "text": [
      "50 52 54 56 58 60 62 64 66 68 70 72 74 76 78 80 82 84 86 88 90 92 94 96 98 "
     ]
    }
   ],
   "source": [
    "for i in range(50,100,2):\n",
    "    print(i,end=' ')"
   ]
  },
  {
   "cell_type": "code",
   "execution_count": 17,
   "metadata": {},
   "outputs": [
    {
     "name": "stdout",
     "output_type": "stream",
     "text": [
      "98 96 94 92 90 88 86 84 82 80 78 76 74 72 70 68 66 64 62 60 58 56 54 52 50 "
     ]
    }
   ],
   "source": [
    "for i in range(98,49,-2):\n",
    "    print(i,end=' ')"
   ]
  },
  {
   "cell_type": "markdown",
   "metadata": {},
   "source": [
    "### 2.while loop"
   ]
  },
  {
   "cell_type": "code",
   "execution_count": 18,
   "metadata": {},
   "outputs": [
    {
     "name": "stdout",
     "output_type": "stream",
     "text": [
      "1 2 3 4 5 6 7 8 9 10 "
     ]
    }
   ],
   "source": [
    "i=1\n",
    "while i<=10:\n",
    "    print(i,end=' ')\n",
    "    i=i+1"
   ]
  },
  {
   "cell_type": "code",
   "execution_count": 2,
   "metadata": {},
   "outputs": [
    {
     "name": "stdout",
     "output_type": "stream",
     "text": [
      "3 6 9 12 15 18 21 24 27 30 33 36 39 42 45 48 51 54 57 60 63 66 69 72 75 78 81 84 87 90 93 96 99 "
     ]
    }
   ],
   "source": [
    "i=1\n",
    "while i<=100:\n",
    "    if(i%3==0):\n",
    "        print(i,end=' ')\n",
    "    i=i+1"
   ]
  },
  {
   "cell_type": "code",
   "execution_count": 3,
   "metadata": {},
   "outputs": [
    {
     "name": "stdout",
     "output_type": "stream",
     "text": [
      "99 96 93 90 87 84 81 78 75 72 69 66 63 60 57 54 51 48 45 42 39 36 33 30 27 24 21 18 15 12 9 6 3 "
     ]
    }
   ],
   "source": [
    "i=99\n",
    "while i>=3:\n",
    "    if(i%3==0):\n",
    "        print(i,end=' ')\n",
    "    i=i-1"
   ]
  },
  {
   "cell_type": "code",
   "execution_count": 1,
   "metadata": {},
   "outputs": [
    {
     "name": "stdout",
     "output_type": "stream",
     "text": [
      "v\n",
      "i\n",
      "j\n",
      "a\n",
      "y\n",
      "a\n"
     ]
    }
   ],
   "source": [
    "s='vijaya'\n",
    "i=0\n",
    "while (i<len(s)):\n",
    "    print(s[i])\n",
    "    i=i+1"
   ]
  },
  {
   "cell_type": "code",
   "execution_count": 3,
   "metadata": {},
   "outputs": [
    {
     "name": "stdout",
     "output_type": "stream",
     "text": [
      "enter a number10\n",
      "1 2 3 4 5 6 7 8 9 10 "
     ]
    }
   ],
   "source": [
    "#Function to print N natural numbers by using for loop\n",
    "def natural():\n",
    "    n=int (input('enter a number'))\n",
    "    for i in range(1,n+1):\n",
    "        print(i,end=' ')\n",
    "natural()"
   ]
  },
  {
   "cell_type": "code",
   "execution_count": 4,
   "metadata": {},
   "outputs": [
    {
     "name": "stdout",
     "output_type": "stream",
     "text": [
      "enter a number10\n",
      "1 2 3 4 5 6 7 8 9 10 "
     ]
    }
   ],
   "source": [
    "#Function to print N natural numbers by using while loop\n",
    "def natural():\n",
    "    n=int (input('enter a number'))\n",
    "    i=1\n",
    "    while i<=n:\n",
    "        print(i,end=' ')\n",
    "        i=i+1\n",
    "natural()"
   ]
  },
  {
   "cell_type": "code",
   "execution_count": 8,
   "metadata": {},
   "outputs": [
    {
     "name": "stdout",
     "output_type": "stream",
     "text": [
      "500 502 504 506 508 510 512 514 516 518 520 522 524 526 528 530 532 534 536 538 540 542 544 546 548 "
     ]
    }
   ],
   "source": [
    "# function to print the alternative value in range in the same line\n",
    "#range(500,550)-->500,501,--549\n",
    "#start with inclusive and end with exclusive\n",
    "def alternate():\n",
    "    for i in range(500,550,2):\n",
    "        print(i,end=' ')\n",
    "alternate()"
   ]
  },
  {
   "cell_type": "code",
   "execution_count": 19,
   "metadata": {},
   "outputs": [
    {
     "name": "stdout",
     "output_type": "stream",
     "text": [
      "550 548 546 544 542 540 538 536 534 532 530 528 526 524 522 520 518 516 514 512 510 508 506 504 502 500 "
     ]
    }
   ],
   "source": [
    "#functio to print reverse of given range in the same line\n",
    "def alternate():\n",
    "    for i in range(550,499,-2):\n",
    "        print(i,end=' ')\n",
    "alternate()"
   ]
  },
  {
   "cell_type": "code",
   "execution_count": 26,
   "metadata": {},
   "outputs": [
    {
     "name": "stdout",
     "output_type": "stream",
     "text": [
      "99 97 95 93 91 89 87 85 83 81 79 77 75 73 71 69 67 65 63 61 59 57 55 53 51 49 47 45 43 41 39 37 35 33 31 29 27 25 23 21 19 17 15 13 11 9 7 5 3 "
     ]
    }
   ],
   "source": [
    "#function to print the odd numbers in reverse order\n",
    "def oddreverse():\n",
    "    for i in range(100,1,-1):\n",
    "        if(i%2!=0):\n",
    "            print(i,end=' ')\n",
    "oddreverse()"
   ]
  },
  {
   "cell_type": "code",
   "execution_count": 15,
   "metadata": {},
   "outputs": [
    {
     "name": "stdout",
     "output_type": "stream",
     "text": [
      "3\n"
     ]
    }
   ],
   "source": [
    "#function to calculate the average of given range\n",
    "#(1,5)->3\n",
    "def average():\n",
    "    sum=0\n",
    "    count=0\n",
    "    for i in range(1,6):\n",
    "        count+=1\n",
    "        sum+=i\n",
    "    print(sum//count)\n",
    "average()\n",
    "        "
   ]
  },
  {
   "cell_type": "code",
   "execution_count": 13,
   "metadata": {},
   "outputs": [],
   "source": [
    "#function to calculate the average of given timeperiod\n",
    "#[2000,2020]->2000 2004 2008 \n"
   ]
  },
  {
   "cell_type": "code",
   "execution_count": null,
   "metadata": {},
   "outputs": [],
   "source": [
    "#calculate number of days in agiven timeperiod using leapyear logic\n",
    "#for every year in the given timeperiod,if the year is not leap year->add 365 to sum.if leapyear addd 366"
   ]
  }
 ],
 "metadata": {
  "kernelspec": {
   "display_name": "Python 3",
   "language": "python",
   "name": "python3"
  },
  "language_info": {
   "codemirror_mode": {
    "name": "ipython",
    "version": 3
   },
   "file_extension": ".py",
   "mimetype": "text/x-python",
   "name": "python",
   "nbconvert_exporter": "python",
   "pygments_lexer": "ipython3",
   "version": "3.7.3"
  }
 },
 "nbformat": 4,
 "nbformat_minor": 2
}
