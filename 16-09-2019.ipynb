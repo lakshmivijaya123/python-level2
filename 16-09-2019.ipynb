{
 "cells": [
  {
   "cell_type": "markdown",
   "metadata": {},
   "source": [
    "### Regular Expressions\n",
    "- Syntax:import re\n",
    "\n",
    "#### Methods in Regular Expressions\n",
    "- re.findall()\n",
    "- re.search()\n",
    "- re.match()\n",
    "- re.sub()\n",
    "- re.finditer()"
   ]
  },
  {
   "cell_type": "markdown",
   "metadata": {},
   "source": [
    "- set \"[ _ ]\" --> we can insert set of group of chars,numbers etc.\n",
    "- carert \" ^ \" --> starts with\n",
    "- Doller \" $ \" --> Ends with\n",
    "- Star \" * \" --> Zero or more occurance\n",
    "- plus \" + \" --> one or more occurance\n",
    "- { } --> Exactly the specified no.of occurance\n",
    "- \" | \" --> or\n",
    "- \" \\ \" --> Special sequence\n",
    "- A period \" . \" --> Represent a charcter"
   ]
  },
  {
   "cell_type": "markdown",
   "metadata": {},
   "source": [
    "### Special sequence \" \\ \"\n",
    "- \\a --> charcter is at begining of string\n",
    "- \\b --> charcter is at begining or ending or middle of string\n",
    "- \\d --> any digit\n",
    "- \\D --> non digit\n",
    "- \\s --> whitespace\n",
    "- \\S --> nonwhitespae\n",
    "- \\w --> alphanumeric\n",
    "- \\W --> non-alphanumeric(Ex:!@#$%^&*)"
   ]
  },
  {
   "cell_type": "code",
   "execution_count": 3,
   "metadata": {},
   "outputs": [
    {
     "name": "stdout",
     "output_type": "stream",
     "text": [
      "['h', 'e', 'h', 'g', 'a', 'i', 'g', 'l', 'a', 'g', 'a', 'g', 'e']\n"
     ]
    }
   ],
   "source": [
    "# write a program to find the charcters between 'a' and 'l'\n",
    "import re\n",
    "string='the python programmimg language'\n",
    "str2= re.findall('[a-l]',string)\n",
    "print(str2)"
   ]
  },
  {
   "cell_type": "code",
   "execution_count": 10,
   "metadata": {},
   "outputs": [
    {
     "name": "stdout",
     "output_type": "stream",
     "text": [
      "['6', '1', '0', '0']\n"
     ]
    }
   ],
   "source": [
    "import re\n",
    "a='the cost of 6 apples is 100/- Rs'\n",
    "b=re.findall('\\d',a)\n",
    "print(b)"
   ]
  },
  {
   "cell_type": "code",
   "execution_count": 11,
   "metadata": {},
   "outputs": [
    {
     "name": "stdout",
     "output_type": "stream",
     "text": [
      "['t', 'h', 'e', ' ', 'c', 'o', 's', 't', ' ', 'o', 'f', ' ', ' ', 'a', 'p', 'p', 'l', 'e', 's', ' ', 'i', 's', ' ', '/', '-', ' ', 'R', 'S']\n"
     ]
    }
   ],
   "source": [
    "import re\n",
    "a='the cost of 6 apples is 100/- RS'\n",
    "b=re.findall('\\D',a)\n",
    "print(b)"
   ]
  },
  {
   "cell_type": "code",
   "execution_count": 12,
   "metadata": {},
   "outputs": [
    {
     "name": "stdout",
     "output_type": "stream",
     "text": [
      "['t', 'h', 'e', 'c', 'o', 's', 't', 'o', 'f', '6', 'a', 'p', 'p', 'l', 'e', 's', 'i', 's', '1', '0', '0', '/', '-', 'R', 's']\n"
     ]
    }
   ],
   "source": [
    "import re\n",
    "a='the cost of 6 apples is 100/- Rs'\n",
    "b=re.findall('\\S',a)\n",
    "print(b)"
   ]
  },
  {
   "cell_type": "code",
   "execution_count": 13,
   "metadata": {},
   "outputs": [
    {
     "name": "stdout",
     "output_type": "stream",
     "text": [
      "[' ', ' ', ' ', ' ', ' ', ' ']\n"
     ]
    }
   ],
   "source": [
    "import re\n",
    "a='the cost of 6 apples is 100'\n",
    "b=re.findall('\\s',a)\n",
    "print(b)"
   ]
  },
  {
   "cell_type": "code",
   "execution_count": 16,
   "metadata": {},
   "outputs": [
    {
     "name": "stdout",
     "output_type": "stream",
     "text": [
      "['t', 'h', 'e', 'c', 'o', 's', 't', 'o', 'f', '6', 'a', 'p', 'p', 'l', 'e', 's', 'i', 's', '1', '0', '0', 'R', 's']\n"
     ]
    }
   ],
   "source": [
    "import re\n",
    "a='the cost of 6 apples is 100/- Rs'\n",
    "b=re.findall('\\w',a)\n",
    "print(b)"
   ]
  },
  {
   "cell_type": "code",
   "execution_count": 15,
   "metadata": {},
   "outputs": [
    {
     "name": "stdout",
     "output_type": "stream",
     "text": [
      "[' ', ' ', ' ', ' ', ' ', ' ', '/', '-', ' ']\n"
     ]
    }
   ],
   "source": [
    "import re\n",
    "a='the cost of 6 apples is 100/- Rs'\n",
    "b=re.findall('\\W',a)\n",
    "print(b)"
   ]
  },
  {
   "cell_type": "code",
   "execution_count": 18,
   "metadata": {},
   "outputs": [
    {
     "name": "stdout",
     "output_type": "stream",
     "text": [
      "[]\n"
     ]
    }
   ],
   "source": [
    "# write a program to find the charcters between 'a' and 'l'\n",
    "import re\n",
    "string='the python programmimg language'\n",
    "str2= re.findall('\\b',string)\n",
    "print(str2)"
   ]
  },
  {
   "cell_type": "code",
   "execution_count": 34,
   "metadata": {},
   "outputs": [
    {
     "name": "stdout",
     "output_type": "stream",
     "text": [
      "['progr']\n"
     ]
    }
   ],
   "source": [
    "# take a string with contains more than 8-charcters,print 5 charcters in that string\n",
    "import re\n",
    "string=\"programming\"\n",
    "str2=re.findall('pr...',string)\n",
    "print(str2)"
   ]
  },
  {
   "cell_type": "code",
   "execution_count": 39,
   "metadata": {},
   "outputs": [
    {
     "name": "stdout",
     "output_type": "stream",
     "text": [
      "72345769934\n"
     ]
    },
    {
     "data": {
      "text/plain": [
       "True"
      ]
     },
     "execution_count": 39,
     "metadata": {},
     "output_type": "execute_result"
    }
   ],
   "source": [
    "# phone number validator  using re.match\n",
    "import re\n",
    "def phonenumbervalidator(n):\n",
    "    p='[6-9][0-9]{9}|[+][9][1][6-9][0-9]{9}'\n",
    "    if re.match(p,str(n)):\n",
    "        return True\n",
    "    else:\n",
    "        return False\n",
    "n=int(input())\n",
    "phonenumbervalidator(n)\n",
    "\n",
    "        \n"
   ]
  },
  {
   "cell_type": "code",
   "execution_count": 40,
   "metadata": {},
   "outputs": [
    {
     "name": "stdout",
     "output_type": "stream",
     "text": [
      "+919441024656\n"
     ]
    },
    {
     "data": {
      "text/plain": [
       "False"
      ]
     },
     "execution_count": 40,
     "metadata": {},
     "output_type": "execute_result"
    }
   ],
   "source": [
    "import re\n",
    "def phonenumbervalidator(n):\n",
    "    p='^[+][9][1][6-9][0-9]{9}$'\n",
    "    if re.match(p,str(n)):\n",
    "        return True\n",
    "    else:\n",
    "        return False\n",
    "n=int(input())\n",
    "phonenumbervalidator(n)\n"
   ]
  },
  {
   "cell_type": "code",
   "execution_count": 44,
   "metadata": {},
   "outputs": [
    {
     "name": "stdout",
     "output_type": "stream",
     "text": [
      ":python::::programming:language:\n"
     ]
    }
   ],
   "source": [
    "# re.sub() method\n",
    "#write a program to replace white space with colon \":\"\n",
    "import re\n",
    "string=' python    programming language '\n",
    "str2=re.sub('\\s',':',string)\n",
    "print(str2)"
   ]
  },
  {
   "cell_type": "code",
   "execution_count": 45,
   "metadata": {},
   "outputs": [
    {
     "name": "stdout",
     "output_type": "stream",
     "text": [
      "pythonprogramminglanguage\n"
     ]
    }
   ],
   "source": [
    "import re\n",
    "string=' python    programming language '\n",
    "str2=re.sub('\\s','',string)\n",
    "print(str2)"
   ]
  },
  {
   "cell_type": "code",
   "execution_count": 50,
   "metadata": {},
   "outputs": [
    {
     "name": "stdout",
     "output_type": "stream",
     "text": [
      "['vijayalakshmibattula1@gmail.com']\n"
     ]
    }
   ],
   "source": [
    "import re\n",
    "string='vijayalakshmibattula1@gmail.com '\n",
    "str2=re.findall('[a-z][0-9a-z.]{5,30}[@][0-9a-z]{3,8}[.][a-z]{2,4}',string)\n",
    "print(str2)\n"
   ]
  },
  {
   "cell_type": "code",
   "execution_count": 54,
   "metadata": {},
   "outputs": [
    {
     "ename": "TypeError",
     "evalue": "findall() missing 1 required positional argument: 'string'",
     "output_type": "error",
     "traceback": [
      "\u001b[1;31m---------------------------------------------------------------------------\u001b[0m",
      "\u001b[1;31mTypeError\u001b[0m                                 Traceback (most recent call last)",
      "\u001b[1;32m<ipython-input-54-518164834202>\u001b[0m in \u001b[0;36m<module>\u001b[1;34m\u001b[0m\n\u001b[0;32m      1\u001b[0m \u001b[1;32mimport\u001b[0m \u001b[0mre\u001b[0m\u001b[1;33m\u001b[0m\u001b[1;33m\u001b[0m\u001b[0m\n\u001b[0;32m      2\u001b[0m \u001b[0mstring\u001b[0m\u001b[1;33m=\u001b[0m\u001b[1;34m'vijayalakshmibattula1@ac.in '\u001b[0m\u001b[1;33m\u001b[0m\u001b[1;33m\u001b[0m\u001b[0m\n\u001b[1;32m----> 3\u001b[1;33m \u001b[0mstr2\u001b[0m\u001b[1;33m=\u001b[0m\u001b[0mre\u001b[0m\u001b[1;33m.\u001b[0m\u001b[0mfindall\u001b[0m\u001b[1;33m(\u001b[0m\u001b[1;34m'^[a-z][0-9a-z.]{5,30}[@][0-9a-z]{3,8}[.][a-z]{2,4}[.][a-z]{2,4}$'\u001b[0m\u001b[1;33m)\u001b[0m\u001b[1;33m\u001b[0m\u001b[1;33m\u001b[0m\u001b[0m\n\u001b[0m\u001b[0;32m      4\u001b[0m \u001b[1;31m#if (string=re.match(str2,):\u001b[0m\u001b[1;33m\u001b[0m\u001b[1;33m\u001b[0m\u001b[1;33m\u001b[0m\u001b[0m\n\u001b[0;32m      5\u001b[0m \u001b[1;33m\u001b[0m\u001b[0m\n",
      "\u001b[1;31mTypeError\u001b[0m: findall() missing 1 required positional argument: 'string'"
     ]
    }
   ],
   "source": [
    "import re\n",
    "string='vijayalakshmibattula1@ac.in '\n",
    "str2=re.findall('^[a-z][0-9a-z.]{5,30}[@][0-9a-z]{3,8}[.][a-z]{2,4}[.][a-z]{2,4}$')\n",
    "#if (string=re.match(str2,):\n",
    "\n",
    "print(str2)"
   ]
  },
  {
   "cell_type": "code",
   "execution_count": null,
   "metadata": {},
   "outputs": [],
   "source": [
    "import re\n",
    "def phonenumbervalidator(n):\n",
    "    p='^[a-z][0-9a-z.]{5,30}[@][0-9a-z]{3,8}[.][a-z]{2,4}[.][a-z]{2,4}$'\n",
    "    if re.match(p,str(n)):\n",
    "        return True\n",
    "    else:\n",
    "        return False\n",
    "n=int(input())\n",
    "phonenumbervalidator(n)\n"
   ]
  }
 ],
 "metadata": {
  "kernelspec": {
   "display_name": "Python 3",
   "language": "python",
   "name": "python3"
  },
  "language_info": {
   "codemirror_mode": {
    "name": "ipython",
    "version": 3
   },
   "file_extension": ".py",
   "mimetype": "text/x-python",
   "name": "python",
   "nbconvert_exporter": "python",
   "pygments_lexer": "ipython3",
   "version": "3.7.3"
  }
 },
 "nbformat": 4,
 "nbformat_minor": 2
}
