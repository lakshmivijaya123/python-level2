{
 "cells": [
  {
   "cell_type": "code",
   "execution_count": 1,
   "metadata": {},
   "outputs": [
    {
     "name": "stdout",
     "output_type": "stream",
     "text": [
      "100 2 300 400\n",
      "800\n"
     ]
    }
   ],
   "source": [
    "#1.Print 3-digits numbers Sum - For a given list of numbers, print the sum of all 3-digit numbers.\n",
    "a=input().split()\n",
    "r=0\n",
    "for i in a:\n",
    "    if(len(i)==3):\n",
    "        r=r+int(i)\n",
    "print(r)"
   ]
  },
  {
   "cell_type": "code",
   "execution_count": 2,
   "metadata": {},
   "outputs": [
    {
     "name": "stdout",
     "output_type": "stream",
     "text": [
      "657\n",
      "7\n",
      "5\n",
      "6\n"
     ]
    }
   ],
   "source": [
    "#2. Digits Reverse\n",
    "#You are given a number. You need to print digits of the number in reverse order.\n",
    "n=int(input())\n",
    "r=str(n)\n",
    "for i in r[::-1]:\n",
    "    print(i)"
   ]
  },
  {
   "cell_type": "code",
   "execution_count": 3,
   "metadata": {},
   "outputs": [
    {
     "name": "stdout",
     "output_type": "stream",
     "text": [
      "hello\n",
      "3\n",
      "hellohellohello\n"
     ]
    }
   ],
   "source": [
    "#3. String Repetition\n",
    "#You just need to take a string and a integer as an input and repeat the string up to the count given as in integer.\n",
    "a=input()\n",
    "n=int(input())\n",
    "print(a*n)"
   ]
  },
  {
   "cell_type": "code",
   "execution_count": 5,
   "metadata": {},
   "outputs": [],
   "source": [
    "#4. Formatted Mobile Number \n",
    "# You are given N mobile numbers.\n",
    "# Print them in the standard format shown below:\n",
    "# +91 - (XXX)-XXX-XXXX\n",
    "# The given mobile numbers may have +91,91 or 0 written before the actual 10 digit number.\n",
    "# Alternatively, there may not be any prefix at all.\n"
   ]
  },
  {
   "cell_type": "code",
   "execution_count": 7,
   "metadata": {},
   "outputs": [
    {
     "name": "stdout",
     "output_type": "stream",
     "text": [
      "3\n",
      "07895462130\n",
      "+91-(789)-546-2130\n",
      "919875641230\n",
      "+91-(987)-564-1230\n",
      "9195969878\n",
      "+91-(919)-596-9878\n"
     ]
    }
   ],
   "source": [
    "a=int(input())\n",
    "for i in range(a):\n",
    "    p=input()\n",
    "    new=p[-10:]\n",
    "    last='+91'+'-('+new[:3]+')'+'-'+new[3:6]+'-'+new[6:]\n",
    "    print(last)\n",
    "    "
   ]
  },
  {
   "cell_type": "code",
   "execution_count": null,
   "metadata": {},
   "outputs": [],
   "source": []
  }
 ],
 "metadata": {
  "kernelspec": {
   "display_name": "Python 3",
   "language": "python",
   "name": "python3"
  },
  "language_info": {
   "codemirror_mode": {
    "name": "ipython",
    "version": 3
   },
   "file_extension": ".py",
   "mimetype": "text/x-python",
   "name": "python",
   "nbconvert_exporter": "python",
   "pygments_lexer": "ipython3",
   "version": "3.7.3"
  }
 },
 "nbformat": 4,
 "nbformat_minor": 2
}
