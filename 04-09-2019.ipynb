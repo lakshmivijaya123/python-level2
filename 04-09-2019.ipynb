{
 "cells": [
  {
   "cell_type": "markdown",
   "metadata": {},
   "source": [
    "### Markdown basics\n",
    "\n",
    "# Heading 1\n",
    "\n",
    "## Heading 2\n",
    "\n",
    "* Normal text\n",
    "* **Bold**\n",
    "* *Italic*\n",
    "***IB***\n",
    "*Text\n",
    "    - sublist 1\n",
    "    - sublist 2\n",
    "    \n",
    "> 1. Ordered list 1\n",
    "> 2. Ordered list 2\n",
    "\n",
    "-[x] option 1\n",
    "-[ ] option 2\n",
    "-[ ] option 3\n",
    "\n",
    "\\*escape\n",
    "[link](https://gmail.com)\n",
    "I have 10 items [Google] [1] than from [Yahoo] [2].\n",
    "\n",
    "  [1]: https://google.com/ \"Google\"\n",
    "  [2]: https://search.yahoo.com/ \"Yahoo search\"\n",
    "`printf('hello markdown')\n",
    "<https://google.com>\n",
    "[jupyter logo](logo.png)\n",
    "<img src='logo.png' height='50px' width='50px' style='float:left'>\n"
   ]
  },
  {
   "cell_type": "code",
   "execution_count": null,
   "metadata": {},
   "outputs": [],
   "source": []
  }
 ],
 "metadata": {
  "kernelspec": {
   "display_name": "Python 3",
   "language": "python",
   "name": "python3"
  },
  "language_info": {
   "codemirror_mode": {
    "name": "ipython",
    "version": 3
   },
   "file_extension": ".py",
   "mimetype": "text/x-python",
   "name": "python",
   "nbconvert_exporter": "python",
   "pygments_lexer": "ipython3",
   "version": "3.7.3"
  }
 },
 "nbformat": 4,
 "nbformat_minor": 2
}
