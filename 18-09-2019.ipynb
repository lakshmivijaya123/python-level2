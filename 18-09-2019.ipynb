{
 "cells": [
  {
   "cell_type": "markdown",
   "metadata": {},
   "source": [
    "## File Handling Function in Pyhton"
   ]
  },
  {
   "cell_type": "markdown",
   "metadata": {},
   "source": [
    "### Built-in-Function\n",
    "- open()\n",
    "- close()"
   ]
  },
  {
   "cell_type": "markdown",
   "metadata": {},
   "source": [
    "#### Files contains 3 types of mode\n",
    "- r-->read\n",
    "- file.read()\n",
    "- file.readline()\n",
    "- file.readlines()\n",
    "- w-->write\n",
    "- a-->append"
   ]
  },
  {
   "cell_type": "code",
   "execution_count": 4,
   "metadata": {},
   "outputs": [
    {
     "name": "stdout",
     "output_type": "stream",
     "text": [
      "11\n"
     ]
    }
   ],
   "source": [
    "# To create a file using  'w' mode\n",
    "f=open('files1.txt','w')\n",
    "f2=f.write('hello world')\n",
    "print(f2)\n",
    "f.close()"
   ]
  },
  {
   "cell_type": "code",
   "execution_count": 6,
   "metadata": {},
   "outputs": [
    {
     "name": "stdout",
     "output_type": "stream",
     "text": [
      "hello world\n",
      "hello\n",
      "world\n",
      "\n"
     ]
    }
   ],
   "source": [
    "# To read a file using 'r' mode\n",
    "f=open('files1.txt','r')\n",
    "f2=f.read()\n",
    "print(f2)\n",
    "f.close()"
   ]
  },
  {
   "cell_type": "code",
   "execution_count": 7,
   "metadata": {},
   "outputs": [
    {
     "data": {
      "text/plain": [
       "'hello world\\nhello\\nworld\\n'"
      ]
     },
     "execution_count": 7,
     "metadata": {},
     "output_type": "execute_result"
    }
   ],
   "source": [
    "# using function\n",
    "def readfile(filepath):\n",
    "    with open(filepath,'r')as f:\n",
    "        data=f.read()\n",
    "        return data\n",
    "filepath='files1.txt'\n",
    "readfile(filepath)"
   ]
  },
  {
   "cell_type": "code",
   "execution_count": 9,
   "metadata": {},
   "outputs": [
    {
     "name": "stdout",
     "output_type": "stream",
     "text": [
      "h\n",
      "e\n",
      "l\n",
      "l\n",
      "o\n",
      " \n",
      "w\n",
      "o\n",
      "r\n",
      "l\n",
      "d\n",
      "\n",
      "\n",
      "h\n",
      "e\n",
      "l\n",
      "l\n",
      "o\n",
      "\n",
      "\n",
      "w\n",
      "o\n",
      "r\n",
      "l\n",
      "d\n",
      "\n",
      "\n"
     ]
    }
   ],
   "source": [
    "#using for loop\n",
    "f=open('files1.txt','r')\n",
    "for line in f.read():\n",
    "    print(line)"
   ]
  },
  {
   "cell_type": "code",
   "execution_count": 10,
   "metadata": {},
   "outputs": [
    {
     "name": "stdout",
     "output_type": "stream",
     "text": [
      "h\n",
      "e\n",
      "l\n",
      "l\n",
      "o\n",
      " \n",
      "w\n",
      "o\n",
      "r\n",
      "l\n",
      "d\n",
      "\n",
      "\n"
     ]
    }
   ],
   "source": [
    "#using for loop\n",
    "f=open('files1.txt','r')\n",
    "for line in f.readline():\n",
    "    print(line)"
   ]
  },
  {
   "cell_type": "code",
   "execution_count": 11,
   "metadata": {},
   "outputs": [
    {
     "name": "stdout",
     "output_type": "stream",
     "text": [
      "hello world\n",
      "\n",
      "hello\n",
      "\n",
      "world\n",
      "\n"
     ]
    }
   ],
   "source": [
    "#using for loop\n",
    "f=open('files1.txt','r')\n",
    "for line in f.readlines():\n",
    "    print(line)"
   ]
  },
  {
   "cell_type": "code",
   "execution_count": 17,
   "metadata": {},
   "outputs": [
    {
     "name": "stdout",
     "output_type": "stream",
     "text": [
      "hello\n"
     ]
    }
   ],
   "source": [
    "#using for loop\n",
    "f=open('files1.txt','r')\n",
    "print(f.read(5))\n",
    "f.close()"
   ]
  },
  {
   "cell_type": "code",
   "execution_count": 24,
   "metadata": {},
   "outputs": [
    {
     "name": "stdout",
     "output_type": "stream",
     "text": [
      "12\n",
      "6\n",
      "6\n",
      "3\n"
     ]
    }
   ],
   "source": [
    "# write a program to count no.of lines and charcters in a file\n",
    "#ouput\n",
    "#line1:charcter count\n",
    "#line2:charcter count\n",
    "f=open('files1.txt','r')\n",
    "c=0\n",
    "for line in f.readlines():\n",
    "    print(len(line))\n",
    "    c=c+1\n",
    "print(c)    "
   ]
  },
  {
   "cell_type": "code",
   "execution_count": 52,
   "metadata": {},
   "outputs": [
    {
     "name": "stdout",
     "output_type": "stream",
     "text": [
      "5\n"
     ]
    }
   ],
   "source": [
    "#write a program to count words in a file\n",
    "f=open('files1.txt','r')\n",
    "s=0\n",
    "for line in f.readlines():\n",
    "    for j in line:\n",
    "        if re.search(' ',j):\n",
    "            s=s+1\n",
    "    s=s+1\n",
    "print(s)\n",
    "f.close()"
   ]
  },
  {
   "cell_type": "code",
   "execution_count": 32,
   "metadata": {},
   "outputs": [
    {
     "name": "stdout",
     "output_type": "stream",
     "text": [
      "jahnavi 9492727813 jahnaviparise@gmail.com\n",
      "\n"
     ]
    }
   ],
   "source": [
    "#write a program to search name in contacts\n",
    "import re\n",
    "def searchcontact(name):\n",
    "    with open('contacts.txt','r')as f:\n",
    "        for i in f.readlines():\n",
    "            if re.search(name,i):\n",
    "                print(i)\n",
    "searchcontact('jahnavi')"
   ]
  },
  {
   "cell_type": "code",
   "execution_count": 59,
   "metadata": {},
   "outputs": [],
   "source": [
    "f=open('files.txt','a')\n",
    "f2=f.write('hi vijaya')\n",
    "f.close()"
   ]
  },
  {
   "cell_type": "code",
   "execution_count": 62,
   "metadata": {},
   "outputs": [
    {
     "name": "stdout",
     "output_type": "stream",
     "text": [
      "['hello world\\n', 'hello\\n', 'hi python']\n"
     ]
    }
   ],
   "source": [
    "# write a program to read file line by line and store in a list\n",
    "# write a program to count the frequency of each word\n",
    "f=open('files1.txt','r') \n",
    "l=[]\n",
    "for line in f.readlines():\n",
    "    l.append(line)\n",
    "print(l)"
   ]
  },
  {
   "cell_type": "code",
   "execution_count": 70,
   "metadata": {},
   "outputs": [
    {
     "name": "stdout",
     "output_type": "stream",
     "text": [
      "['hello', 'world', 'hello', 'hi', 'python']\n",
      "{'hello': 2, 'world': 1, 'hi': 1, 'python': 1}\n"
     ]
    }
   ],
   "source": [
    "f=open('files1.txt','r') \n",
    "l=[]\n",
    "d={}\n",
    "for line in f.readlines():\n",
    "    l.extend(line.split())\n",
    "print(l)\n",
    "for i in range(0,len(l)):\n",
    "    for j in range(1):\n",
    "        s=l.count(l[i])\n",
    "        d[l[i]]=s\n",
    "print(d)"
   ]
  },
  {
   "cell_type": "code",
   "execution_count": 74,
   "metadata": {},
   "outputs": [
    {
     "name": "stdout",
     "output_type": "stream",
     "text": [
      "Counter({'hello': 2, 'world': 1, 'hi': 1, 'python': 1})\n"
     ]
    }
   ],
   "source": [
    "from collections import Counter\n",
    "def wordfreq(f2):\n",
    "    with open(f2,'r')as f:\n",
    "        return Counter(f.read().split())\n",
    "print(wordfreq(\"files1.txt\"))"
   ]
  },
  {
   "cell_type": "code",
   "execution_count": 78,
   "metadata": {},
   "outputs": [],
   "source": [
    "from random import randint\n",
    "def marks(n,lb,ub):\n",
    "    with open('marks.txt','w')as f:\n",
    "        for i in range(0,n):\n",
    "            r=randint(lb,ub)\n",
    "            f.write(str(r)+'\\n')\n",
    "    return \n",
    "marks(100,0,100)"
   ]
  },
  {
   "cell_type": "markdown",
   "metadata": {},
   "source": [
    "### tell() and seek() methods"
   ]
  },
  {
   "cell_type": "code",
   "execution_count": 80,
   "metadata": {},
   "outputs": [
    {
     "name": "stdout",
     "output_type": "stream",
     "text": [
      "5\n"
     ]
    }
   ],
   "source": [
    "f=open('contacts.txt','r')\n",
    "f.read()\n",
    "print(f.seek(5))\n",
    "f.close()"
   ]
  },
  {
   "cell_type": "code",
   "execution_count": 84,
   "metadata": {},
   "outputs": [
    {
     "name": "stdout",
     "output_type": "stream",
     "text": [
      "9\n"
     ]
    }
   ],
   "source": [
    "f=open('files.txt','r')\n",
    "f.read()\n",
    "print(f.tell( ))\n",
    "f.close()"
   ]
  },
  {
   "cell_type": "code",
   "execution_count": 87,
   "metadata": {},
   "outputs": [
    {
     "name": "stdout",
     "output_type": "stream",
     "text": [
      "27 kb\n",
      "9 kb\n",
      "184 kb\n",
      "394 kb\n"
     ]
    }
   ],
   "source": [
    "#program to get the size of the file\n",
    "import os\n",
    "print(os.path.getsize('files1.txt'),'kb')\n",
    "print(os.path.getsize('files.txt'),'kb')\n",
    "print(os.path.getsize('contacts.txt'),'kb')\n",
    "print(os.path.getsize('marks.txt'),'kb')"
   ]
  },
  {
   "cell_type": "code",
   "execution_count": null,
   "metadata": {},
   "outputs": [],
   "source": []
  }
 ],
 "metadata": {
  "kernelspec": {
   "display_name": "Python 3",
   "language": "python",
   "name": "python3"
  },
  "language_info": {
   "codemirror_mode": {
    "name": "ipython",
    "version": 3
   },
   "file_extension": ".py",
   "mimetype": "text/x-python",
   "name": "python",
   "nbconvert_exporter": "python",
   "pygments_lexer": "ipython3",
   "version": "3.7.3"
  }
 },
 "nbformat": 4,
 "nbformat_minor": 2
}
