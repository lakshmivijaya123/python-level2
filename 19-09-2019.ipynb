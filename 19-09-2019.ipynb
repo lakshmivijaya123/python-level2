{
 "cells": [
  {
   "cell_type": "code",
   "execution_count": 6,
   "metadata": {},
   "outputs": [
    {
     "name": "stdout",
     "output_type": "stream",
     "text": [
      "[1, 4, 9, 16, 25, 36, 49, 64, 81, 100]\n"
     ]
    }
   ],
   "source": [
    "l1=[]\n",
    "for i in range(1,11,1):\n",
    "    l1.append(i**2)\n",
    "print(l1)\n"
   ]
  },
  {
   "cell_type": "markdown",
   "metadata": {},
   "source": [
    "### Comprehensions\n",
    "- Shorthand for a loop"
   ]
  },
  {
   "cell_type": "markdown",
   "metadata": {},
   "source": [
    "#### Types of comprehensions\n",
    "1.list comprehension\n",
    "    - syntax:[expression for item in sequence]\n",
    "    - ex:[i**2 for i in range(1,10)]\n",
    "2.set comprehension\n",
    "    - synatax:{expression for item in sequence}\n",
    "    - ex:{i**2 for i in range(1,10)}\n",
    "3.dictionary comprehension\n",
    "    - syntax:{key:value for item in sequence}\n",
    "    - ex:{i:i**2 for i in range(1,10)}"
   ]
  },
  {
   "cell_type": "markdown",
   "metadata": {},
   "source": [
    "### list comprehension using loop"
   ]
  },
  {
   "cell_type": "code",
   "execution_count": 8,
   "metadata": {},
   "outputs": [
    {
     "name": "stdout",
     "output_type": "stream",
     "text": [
      "[1, 4, 9, 16, 25, 36, 49, 64, 81]\n"
     ]
    }
   ],
   "source": [
    "l=[i**2 for i in range(1,10)]\n",
    "print(l)"
   ]
  },
  {
   "cell_type": "code",
   "execution_count": 18,
   "metadata": {},
   "outputs": [
    {
     "name": "stdout",
     "output_type": "stream",
     "text": [
      "['students', 'from', 'cse', 'and', 'ece', 'branch', 'are', 'attending', 'fro', 'mstp', 'classes']\n",
      "['students', 'from', 'cse', 'and', 'ece', 'branch', 'are', 'attending', 'fro', 'mstp', 'classes']\n"
     ]
    }
   ],
   "source": [
    "p='students from cse and ece branch are attending fro mstp classes'\n",
    "l1=[]\n",
    "for i in p.split():\n",
    "    l1.append(i)\n",
    "print(l1)\n",
    "#another method\n",
    "l1=(p.split())\n",
    "print(l1)"
   ]
  },
  {
   "cell_type": "code",
   "execution_count": 19,
   "metadata": {},
   "outputs": [
    {
     "name": "stdout",
     "output_type": "stream",
     "text": [
      "['students', 'from', 'cse', 'and', 'ece', 'branch', 'are', 'attending', 'fro', 'mstp', 'classes']\n"
     ]
    }
   ],
   "source": [
    "l1=[i for i in p.split()]\n",
    "print(l1)"
   ]
  },
  {
   "cell_type": "markdown",
   "metadata": {},
   "source": [
    "### list comprehension using if condition\n",
    "- syntax:[expression for item in range(1,10)if condition]\n",
    "- based on program whether conditon first or looop fiirst"
   ]
  },
  {
   "cell_type": "code",
   "execution_count": 25,
   "metadata": {},
   "outputs": [
    {
     "name": "stdout",
     "output_type": "stream",
     "text": [
      "[2, 4, 6, 8]\n",
      "[1, 3, 5, 7, 9]\n"
     ]
    }
   ],
   "source": [
    "n=[i for i in range(1,10)if i%2==0]\n",
    "n1=[i for i in range(1,10)if i%2!=0]\n",
    "print(n)\n",
    "print(n1)"
   ]
  },
  {
   "cell_type": "code",
   "execution_count": 29,
   "metadata": {},
   "outputs": [
    {
     "name": "stdout",
     "output_type": "stream",
     "text": [
      "2 4 6 8 10 12 14 16 18 20 3 6 9 12 15 18 21 24 27 30 "
     ]
    }
   ],
   "source": [
    "for i in range(2,4):\n",
    "    for j in range(1,11):\n",
    "        print(i*j,end=' ')\n",
    "        "
   ]
  },
  {
   "cell_type": "code",
   "execution_count": 31,
   "metadata": {},
   "outputs": [
    {
     "name": "stdout",
     "output_type": "stream",
     "text": [
      "[[2, 4, 6, 8, 10, 12, 14, 16, 18, 20], [3, 6, 9, 12, 15, 18, 21, 24, 27, 30]]\n"
     ]
    }
   ],
   "source": [
    "l=[[i*j for j in range(1,11)]for i in range(2,4)]\n",
    "print(l)"
   ]
  },
  {
   "cell_type": "code",
   "execution_count": 40,
   "metadata": {},
   "outputs": [
    {
     "name": "stdout",
     "output_type": "stream",
     "text": [
      "2 x 1 = 2\n",
      "2 x 2 = 4\n",
      "2 x 3 = 6\n",
      "2 x 4 = 8\n",
      "2 x 5 = 10\n",
      "2 x 6 = 12\n",
      "2 x 7 = 14\n",
      "2 x 8 = 16\n",
      "2 x 9 = 18\n",
      "2 x 10 = 20\n",
      "3 x 1 = 3\n",
      "3 x 2 = 6\n",
      "3 x 3 = 9\n",
      "3 x 4 = 12\n",
      "3 x 5 = 15\n",
      "3 x 6 = 18\n",
      "3 x 7 = 21\n",
      "3 x 8 = 24\n",
      "3 x 9 = 27\n",
      "3 x 10 = 30\n"
     ]
    }
   ],
   "source": [
    "for i in range(2,4):\n",
    "    for j in range(1,11):\n",
    "        print(i,'x',j,'=',i*j)\n",
    "        "
   ]
  },
  {
   "cell_type": "code",
   "execution_count": 34,
   "metadata": {},
   "outputs": [
    {
     "name": "stdout",
     "output_type": "stream",
     "text": [
      "4\n",
      "16\n",
      "36\n",
      "64\n"
     ]
    }
   ],
   "source": [
    "# write a program to check the even numbers in range and print square of even numbers\n",
    "for i in range(1,10):\n",
    "    if(i%2==0):\n",
    "        print(i**2)"
   ]
  },
  {
   "cell_type": "code",
   "execution_count": 35,
   "metadata": {},
   "outputs": [
    {
     "name": "stdout",
     "output_type": "stream",
     "text": [
      "[4, 16, 36, 64]\n"
     ]
    }
   ],
   "source": [
    "l=[i**2 for i in range(1,10)if i%2==0]\n",
    "print(l)"
   ]
  },
  {
   "cell_type": "code",
   "execution_count": 41,
   "metadata": {},
   "outputs": [
    {
     "name": "stdout",
     "output_type": "stream",
     "text": [
      "[1, 'a', 'b', 'a', 5, 'a', 7, 'a', 'b', 'a']\n"
     ]
    }
   ],
   "source": [
    "# list comprehension using if else if\n",
    "l1=[1,2,3,4,5,6,7,8,9,10]\n",
    "l2=[]\n",
    "for i in l1:\n",
    "    if i%2==0:\n",
    "        l2.append('a')\n",
    "    elif i%3==0:\n",
    "        l2.append('b')\n",
    "    else:\n",
    "        l2.append(i)\n",
    "print(l2)"
   ]
  },
  {
   "cell_type": "code",
   "execution_count": 42,
   "metadata": {},
   "outputs": [
    {
     "name": "stdout",
     "output_type": "stream",
     "text": [
      "[1, 'a', 'b', 'a', 5, 'a', 7, 'a', 'b', 'a']\n"
     ]
    }
   ],
   "source": [
    "l2=['a' if i%2==0 else 'b' if i%3==0 else i for i in l1]\n",
    "print(l2)"
   ]
  },
  {
   "cell_type": "code",
   "execution_count": null,
   "metadata": {},
   "outputs": [],
   "source": []
  }
 ],
 "metadata": {
  "kernelspec": {
   "display_name": "Python 3",
   "language": "python",
   "name": "python3"
  },
  "language_info": {
   "codemirror_mode": {
    "name": "ipython",
    "version": 3
   },
   "file_extension": ".py",
   "mimetype": "text/x-python",
   "name": "python",
   "nbconvert_exporter": "python",
   "pygments_lexer": "ipython3",
   "version": "3.7.3"
  }
 },
 "nbformat": 4,
 "nbformat_minor": 2
}
